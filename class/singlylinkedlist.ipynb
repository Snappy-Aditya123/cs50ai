{
 "cells": [
  {
   "cell_type": "code",
   "execution_count": 3,
   "metadata": {},
   "outputs": [
    {
     "name": "stdout",
     "output_type": "stream",
     "text": [
      "1 -> 2 -> 3 -> None\n"
     ]
    }
   ],
   "source": [
    "class Node:\n",
    "    def __init__(self, data, next_node=None) -> None:\n",
    "        self.data = data\n",
    "        self.next = next_node\n",
    "\n",
    "class LinkedList:\n",
    "    def __init__(self, node):\n",
    "        self.head = node\n",
    "\n",
    "    def add(self, data):\n",
    "        node = Node(data)\n",
    "        current_node = self.head\n",
    "        # Traverse to the end of the list\n",
    "        while current_node.next is not None:\n",
    "            current_node = current_node.next\n",
    "        # Add new node at the end\n",
    "        current_node.next = node\n",
    "\n",
    "    def display(self):\n",
    "        string = \"\"\n",
    "        current_node = self.head\n",
    "        while current_node.next is not None:\n",
    "            string += f'{current_node.data} -> '\n",
    "            current_node = current_node.next\n",
    "        string += f'{current_node.data} -> {None}'\n",
    "        print(string)\n",
    "\n",
    "# Example usage\n",
    "first_node = Node(1)\n",
    "linked_list = LinkedList(first_node)\n",
    "linked_list.add(2)\n",
    "linked_list.add(3)\n",
    "linked_list.display()\n"
   ]
  },
  {
   "cell_type": "code",
   "execution_count": 4,
   "metadata": {},
   "outputs": [],
   "source": [
    "class dllNode(Node):\n",
    "    def __init__(self, data, next_node=None,parent=None) -> None:\n",
    "        super().__init__(data, next_node)\n",
    "        self.parent = parent\n",
    "\n",
    "class DDL(LinkedList):\n",
    "    def add(self,data):\n",
    "        node = dllNode(data)\n",
    "        current_node = self.head\n",
    "        while current_node.next is not None:\n",
    "            current_node = current_node.next\n",
    "        current_node.next = node\n",
    "        node.parent = current_node\n",
    "    "
   ]
  },
  {
   "cell_type": "code",
   "execution_count": 5,
   "metadata": {},
   "outputs": [
    {
     "name": "stdout",
     "output_type": "stream",
     "text": [
      "1 -> 2 -> 3 -> None\n"
     ]
    }
   ],
   "source": [
    "first_node = dllNode(1)\n",
    "linked_list = DDL(first_node)\n",
    "linked_list.add(2)\n",
    "linked_list.add(3)\n",
    "linked_list.display()"
   ]
  },
  {
   "cell_type": "code",
   "execution_count": null,
   "metadata": {},
   "outputs": [],
   "source": [
    "\n",
    "    \n",
    "\n"
   ]
  }
 ],
 "metadata": {
  "kernelspec": {
   "display_name": "Python 3",
   "language": "python",
   "name": "python3"
  },
  "language_info": {
   "codemirror_mode": {
    "name": "ipython",
    "version": 3
   },
   "file_extension": ".py",
   "mimetype": "text/x-python",
   "name": "python",
   "nbconvert_exporter": "python",
   "pygments_lexer": "ipython3",
   "version": "3.12.6"
  }
 },
 "nbformat": 4,
 "nbformat_minor": 2
}
