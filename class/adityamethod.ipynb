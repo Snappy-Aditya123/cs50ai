{
 "cells": [
  {
   "cell_type": "code",
   "execution_count": 1,
   "metadata": {},
   "outputs": [],
   "source": [
    "import numpy as np\n",
    "import math as meth \n",
    "import statistics as ss"
   ]
  },
  {
   "cell_type": "code",
   "execution_count": 21,
   "metadata": {},
   "outputs": [],
   "source": [
    "def adityamethod(matr,b):\n",
    "    shap = matr.shape\n",
    "    D = np.zeros(shape=shap)\n",
    "    for i in range(shap[0]):\n",
    "        for j in range(shap[0]):\n",
    "            if i == j:\n",
    "                D[i][j] = matr[i][j]\n",
    "    const1 = np.matmul(np.linalg.inv(D),b) \n",
    "    const2 =  np.matmul(np.linalg.inv(D),(matr-D))\n",
    "    x = np.zeros(b.shape)\n",
    "    for i in range(1000):\n",
    "        X_c = const1 - np.matmul(const2,x)\n",
    "        x = X_c\n",
    "    return x\n",
    "\n"
   ]
  },
  {
   "cell_type": "code",
   "execution_count": 22,
   "metadata": {},
   "outputs": [
    {
     "data": {
      "text/plain": [
       "array([[ 3.60144887e+177],\n",
       "       [-3.23435785e+177],\n",
       "       [-2.73343955e+177]])"
      ]
     },
     "execution_count": 22,
     "metadata": {},
     "output_type": "execute_result"
    }
   ],
   "source": [
    "mat = np.array([[2,3,-1],\n",
    "                [4,-2,1],\n",
    "                [2,1,-2]])\n",
    "b = np.array([8,-3,5])\n",
    "adityamethod(mat,b.reshape(-1,1))"
   ]
  },
  {
   "cell_type": "code",
   "execution_count": 16,
   "metadata": {},
   "outputs": [
    {
     "data": {
      "text/plain": [
       "array([[0.99743366],\n",
       "       [0.99822397],\n",
       "       [0.99708843],\n",
       "       [1.0025734 ]])"
      ]
     },
     "execution_count": 16,
     "metadata": {},
     "output_type": "execute_result"
    }
   ],
   "source": [
    "mat = np.array([[6,2,-1,2],\n",
    "                [3,-9,2,1],\n",
    "                [4,3,10,-2],\n",
    "                [1,-1,1,5]])\n",
    "b = np.array([9,-3,15,6])\n",
    "adityamethod(mat,b.reshape(-1,1))"
   ]
  },
  {
   "cell_type": "code",
   "execution_count": null,
   "metadata": {},
   "outputs": [],
   "source": []
  }
 ],
 "metadata": {
  "kernelspec": {
   "display_name": "Python 3",
   "language": "python",
   "name": "python3"
  },
  "language_info": {
   "codemirror_mode": {
    "name": "ipython",
    "version": 3
   },
   "file_extension": ".py",
   "mimetype": "text/x-python",
   "name": "python",
   "nbconvert_exporter": "python",
   "pygments_lexer": "ipython3",
   "version": "3.12.6"
  }
 },
 "nbformat": 4,
 "nbformat_minor": 2
}
